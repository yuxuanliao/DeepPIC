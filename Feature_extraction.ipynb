{
 "cells": [
  {
   "cell_type": "markdown",
   "id": "9a3d597f",
   "metadata": {},
   "source": [
    "# Feature extraction"
   ]
  },
  {
   "cell_type": "code",
   "execution_count": 1,
   "id": "71d547ed",
   "metadata": {},
   "outputs": [],
   "source": [
    "import os\n",
    "import numpy as np\n",
    "import matplotlib.pyplot as plt\n",
    "from pyopenms import MSExperiment, MzXMLFile, MzMLFile, MzDataFile\n",
    "from sklearn import preprocessing\n",
    "from multiprocess import Pool\n",
    "from numba import jit\n",
    "import sys\n",
    "sys.path.append(\"C:/Users/yxliao/Desktop/Smartgit3/DeepPIC/models\")\n",
    "from DeepPIC import *\n",
    "from feature_extraction import *"
   ]
  },
  {
   "cell_type": "code",
   "execution_count": 2,
   "id": "5e143f8c",
   "metadata": {},
   "outputs": [],
   "source": [
    "path = \"D:/Dpic/data2/leaf_seed/data/10.mzXML\"  #LC-MS file\n",
    "choose_spec0, rt, rt_mean_interval = readms(path)"
   ]
  },
  {
   "cell_type": "code",
   "execution_count": 3,
   "id": "ab40ba66",
   "metadata": {},
   "outputs": [],
   "source": [
    "@jit(nopython=True)\n",
    "def get_range(choose_spec0, mass_inv = 0.08, rt_inv = 30, min_intensity=50000): \n",
    "    scan = len(rt)\n",
    "    rt_inv = int(rt_inv/rt_mean_interval)\n",
    "    c = np.ones(len(choose_spec0))\n",
    "    tol_array = np.hstack(((choose_spec0),(c.reshape(len(c),1))))\n",
    "    h_rt = []\n",
    "    h_ms = []\n",
    "    h_intensity = []\n",
    "    choose_spec = []\n",
    "    while True:\n",
    "        tol_index = np.where(tol_array[:, 3] == 1)\n",
    "        inded = (tol_array[tol_index[0], 2]).T\n",
    "        max_ind = np.argmax(inded)\n",
    "        max_intensity_intensity =inded[max_ind]\n",
    "        ind = tol_index[0][max_ind]\n",
    "        h_intensity_rt = tol_array[ind, 0]\n",
    "        max_intensity_rt_i = np.searchsorted(rt,h_intensity_rt)\n",
    "        max_int_ms = tol_array[ind, 1]\n",
    "        # h_intensity_rt=320.123\n",
    "        # max_intensity_rt_i = np.searchsorted(rt,h_intensity_rt)\n",
    "        # max_int_ms=733.5922241210938\n",
    "        # max_intensity_intensity=94767.984375\n",
    "   \n",
    "        if max_intensity_intensity < min_intensity:\n",
    "            break\n",
    "        else:    \n",
    "            start = max_intensity_rt_i-rt_inv\n",
    "            end = max_intensity_rt_i+rt_inv\n",
    "            if start < 0:\n",
    "                start = 0\n",
    "            if end > scan:\n",
    "                end = scan\n",
    "            choose_rt = rt[start:end]\n",
    "            ind_z = []\n",
    "            for rti in range(len(choose_rt)):\n",
    "                f = np.searchsorted(tol_array[:, 0],choose_rt[rti])\n",
    "                h = np.searchsorted(tol_array[:, 0],choose_rt[rti],side='right')\n",
    "                ind_f = np.searchsorted(tol_array[f:h,1],tol_array[f:h,1][np.abs(tol_array[f:h,1]-max_int_ms) < mass_inv])\n",
    "                ind_t = ind_f+f\n",
    "                ind_z.extend(ind_t)   \n",
    "            index = np.array(ind_z)\n",
    "            tol_array[index, 3] = 2\n",
    "            rt1 = tol_array[index, 0]\n",
    "            ms1 =  tol_array[index, 1]\n",
    "            int1 = tol_array[index, 2]\n",
    "            choose_spec_i = np.hstack(((rt1.reshape(len(rt1),1)),(ms1.reshape(len(ms1),1)),(int1.reshape(len(int1),1))))\n",
    "            h_rt.append(h_intensity_rt)\n",
    "            choose_spec.append(choose_spec_i)  \n",
    "            h_intensity.append(max_intensity_intensity)\n",
    "            h_ms.append(max_int_ms)\n",
    "                           \n",
    "    spec_rt = list(zip(choose_spec,h_rt,h_ms,h_intensity))\n",
    "    #         np.savetxt('%s/%s_%s_%s_%s_%s_%s.txt' % (\"D:/Dpic/data2/1167/train2\",h_intensity_rt,max_int_ms,max_intensity_intensity,choose_spec_i[0,0],choose_spec_i[-1,0],choose_spec_i.shape[0]),choose_spec_i)\n",
    "    return spec_rt"
   ]
  },
  {
   "cell_type": "code",
   "execution_count": 6,
   "id": "179cbf1f",
   "metadata": {},
   "outputs": [],
   "source": [
    "choose_spec = get_range(choose_spec0, mass_inv = 1, rt_inv = 15, min_intensity=6000)\n",
    "p = Pool(5)\n",
    "array = p.map(get_array,choose_spec)"
   ]
  },
  {
   "cell_type": "code",
   "execution_count": 7,
   "id": "485e626f",
   "metadata": {},
   "outputs": [],
   "source": [
    "input_data = Input(shape=(256, 256, 1))\n",
    "model = get_unet(input_data, n_filters=64, dropout=0.5, batchnorm=True, padding='same')\n",
    "model.compile(optimizer=Adam(lr = 0.001), loss=\"binary_crossentropy\", metrics=[\"accuracy\"])\n",
    "model.load_weights('C:/Users/yxliao/Desktop/Smartgit3/release_DeepPIC/best_unet2_zz.h5') #the optimized model"
   ]
  },
  {
   "cell_type": "code",
   "execution_count": 8,
   "id": "06a4da3c",
   "metadata": {},
   "outputs": [
    {
     "name": "stdout",
     "output_type": "stream",
     "text": [
      "45/45 [==============================] - 26s 580ms/step\n"
     ]
    }
   ],
   "source": [
    "preds = model.predict(scaler(array),batch_size=4,verbose=1)"
   ]
  },
  {
   "cell_type": "code",
   "execution_count": 9,
   "id": "6882beb9",
   "metadata": {},
   "outputs": [],
   "source": [
    "pred_array_int = pred_array(0, preds, array)\n",
    "pred_array_mz = pred_array(2, preds, array)\n",
    "pics = pics(array,pred_array_int,pred_array_mz,choose_spec)"
   ]
  },
  {
   "cell_type": "code",
   "execution_count": 10,
   "id": "f3bcca59",
   "metadata": {},
   "outputs": [
    {
     "data": {
      "text/plain": [
       "array([[   280.36      ,    265.        ,    207.06452942],\n",
       "       [   280.697     ,    312.        ,    207.07183838],\n",
       "       [   281.033     ,    489.        ,    207.06443787],\n",
       "       [   281.369     ,    235.        ,    207.06697083],\n",
       "       [   281.706     ,    566.        ,    207.06105042],\n",
       "       [   282.042     ,    772.        ,    207.06324768],\n",
       "       [   282.38      ,    473.        ,    207.06755066],\n",
       "       [   282.716     ,    680.        ,    207.06794739],\n",
       "       [   283.052     ,    652.        ,    207.06213379],\n",
       "       [   283.389     ,    520.        ,    207.06248474],\n",
       "       [   283.725     ,    460.        ,    207.06382751],\n",
       "       [   284.061     ,    332.        ,    207.06863403],\n",
       "       [   284.398     ,    309.        ,    207.07067871],\n",
       "       [   284.734     ,    287.        ,    207.06188965],\n",
       "       [   285.071     ,    688.        ,    207.06385803],\n",
       "       [   285.408     ,   1965.        ,    207.06373596],\n",
       "       [   285.744     ,   8606.        ,    207.06359863],\n",
       "       [   286.08      ,  26896.        ,    207.06201172],\n",
       "       [   286.416     ,  60158.        ,    207.06195068],\n",
       "       [   286.753     ,  97170.        ,    207.06219482],\n",
       "       [   287.089     , 123422.        ,    207.06210327],\n",
       "       [   287.425     , 146376.        ,    207.06257629],\n",
       "       [   287.762     , 158150.        ,    207.06228638],\n",
       "       [   288.098     , 167823.        ,    207.06211853],\n",
       "       [   288.434     , 170650.        ,    207.06211853],\n",
       "       [   288.771     , 168014.        ,    207.06266785],\n",
       "       [   289.107     , 158752.        ,    207.06236267],\n",
       "       [   289.443     , 150890.        ,    207.06274414],\n",
       "       [   289.779     , 142220.        ,    207.06240845],\n",
       "       [   290.116     , 134807.        ,    207.06222534],\n",
       "       [   290.452     , 123915.        ,    207.06242371],\n",
       "       [   290.788     , 123252.        ,    207.06193542],\n",
       "       [   291.125     , 121342.        ,    207.06204224],\n",
       "       [   291.461     , 120599.        ,    207.06271362],\n",
       "       [   291.797     , 118617.        ,    207.06236267],\n",
       "       [   292.134     , 113371.        ,    207.06182861],\n",
       "       [   292.472     , 107898.        ,    207.06181335],\n",
       "       [   292.808     ,  92214.        ,    207.06254578],\n",
       "       [   293.145     ,  79434.        ,    207.06234741],\n",
       "       [   293.481     ,  65842.        ,    207.06245422],\n",
       "       [   293.817     ,  53302.        ,    207.06257629],\n",
       "       [   294.154     ,  42092.        ,    207.06286621],\n",
       "       [   294.49      ,  31414.        ,    207.06217957],\n",
       "       [   294.826     ,  22587.        ,    207.06266785],\n",
       "       [   295.163     ,  17577.        ,    207.06298828],\n",
       "       [   295.499     ,  12243.        ,    207.06233215],\n",
       "       [   295.835     ,  10136.        ,    207.06256104],\n",
       "       [   296.171     ,   9168.        ,    207.06138611],\n",
       "       [   296.508     ,   7937.        ,    207.06410217],\n",
       "       [   296.844     ,   7092.        ,    207.06173706],\n",
       "       [   297.18      ,   5857.        ,    207.06248474],\n",
       "       [   297.517     ,   4865.        ,    207.06216431],\n",
       "       [   297.853     ,   5506.        ,    207.06227112],\n",
       "       [   298.189     ,   4675.        ,    207.06361389],\n",
       "       [   298.526     ,   4612.        ,    207.06365967],\n",
       "       [   298.862     ,   3949.        ,    207.06268311],\n",
       "       [   299.198     ,   3437.        ,    207.06214905],\n",
       "       [   299.534     ,   3369.        ,    207.06434631],\n",
       "       [   299.871     ,   3136.        ,    207.06085205],\n",
       "       [   300.207     ,   2965.        ,    207.06193542],\n",
       "       [   300.544     ,   2754.        ,    207.06237793],\n",
       "       [   300.881     ,   2968.        ,    207.0619812 ],\n",
       "       [   301.217     ,   2480.        ,    207.06288147],\n",
       "       [   301.553     ,   2183.        ,    207.06352234],\n",
       "       [   301.89      ,   1874.        ,    207.0639801 ],\n",
       "       [   302.226     ,   2042.        ,    207.06285095],\n",
       "       [   302.564     ,   2145.        ,    207.06292725],\n",
       "       [   302.9       ,   2027.        ,    207.06207275]])"
      ]
     },
     "execution_count": 10,
     "metadata": {},
     "output_type": "execute_result"
    }
   ],
   "source": [
    "pics[0]"
   ]
  },
  {
   "cell_type": "code",
   "execution_count": 11,
   "id": "81058add",
   "metadata": {},
   "outputs": [
    {
     "data": {
      "image/png": "[encoded data removed]",
      "text/plain": [
       "<Figure size 720x576 with 1 Axes>"
      ]
     },
     "metadata": {
      "needs_background": "light"
     },
     "output_type": "display_data"
    }
   ],
   "source": [
    "plt.figure( figsize=(10,8))\n",
    "plt.plot(pics[0][:, 0], pics[0][:, 1], marker='o', color='b', linewidth=2.0, linestyle='--', label='linear line')\n",
    "plt.legend(loc='upper right')\n",
    "plt.xlabel('RT')\n",
    "plt.ylabel('intensity')\n",
    "plt.title(\"PIC\")\n",
    "plt.show()"
   ]
  },
  {
   "cell_type": "code",
   "execution_count": null,
   "id": "6153a73e",
   "metadata": {},
   "outputs": [],
   "source": []
  }
 ],
 "metadata": {
  "kernelspec": {
   "display_name": "Python [conda env:DeepPIC] *",
   "language": "python",
   "name": "conda-env-DeepPIC-py"
  },
  "language_info": {
   "codemirror_mode": {
    "name": "ipython",
    "version": 3
   },
   "file_extension": ".py",
   "mimetype": "text/x-python",
   "name": "python",
   "nbconvert_exporter": "python",
   "pygments_lexer": "ipython3",
   "version": "3.8.13"
  }
 },
 "nbformat": 4,
 "nbformat_minor": 5
}
