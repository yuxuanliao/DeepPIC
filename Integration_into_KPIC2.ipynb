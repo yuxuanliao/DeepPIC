{
 "cells": [
  {
   "cell_type": "markdown",
   "id": "3b53aa85",
   "metadata": {},
   "source": [
    "# Integration into KPIC2 to implement the whole process of metabolomics processing"
   ]
  },
  {
   "cell_type": "markdown",
   "id": "235aa37a",
   "metadata": {},
   "source": [
    "## Install the DeepPIC package"
   ]
  },
  {
   "cell_type": "code",
   "execution_count": 1,
   "id": "e1c33c4f",
   "metadata": {},
   "outputs": [
    {
     "name": "stdout",
     "output_type": "stream",
     "text": [
      "Collecting rpy2\n",
      "  Using cached rpy2-3.5.4-py3-none-any.whl\n",
      "Requirement already satisfied: cffi>=1.10.0 in c:\\users\\yxliao\\anaconda3\\envs\\deeppic\\lib\\site-packages (from rpy2) (1.15.0)\n",
      "Requirement already satisfied: tzlocal in c:\\users\\yxliao\\anaconda3\\envs\\deeppic\\lib\\site-packages (from rpy2) (2.1)\n",
      "Requirement already satisfied: packaging in c:\\users\\yxliao\\anaconda3\\envs\\deeppic\\lib\\site-packages (from rpy2) (21.3)\n",
      "Requirement already satisfied: pytz in c:\\users\\yxliao\\anaconda3\\envs\\deeppic\\lib\\site-packages (from rpy2) (2022.1)\n",
      "Requirement already satisfied: jinja2 in c:\\users\\yxliao\\anaconda3\\envs\\deeppic\\lib\\site-packages (from rpy2) (3.0.3)\n",
      "Requirement already satisfied: pycparser in c:\\users\\yxliao\\anaconda3\\envs\\deeppic\\lib\\site-packages (from cffi>=1.10.0->rpy2) (2.21)\n",
      "Requirement already satisfied: MarkupSafe>=2.0 in c:\\users\\yxliao\\anaconda3\\envs\\deeppic\\lib\\site-packages (from jinja2->rpy2) (2.1.1)\n",
      "Requirement already satisfied: pyparsing!=3.0.5,>=2.0.2 in c:\\users\\yxliao\\anaconda3\\envs\\deeppic\\lib\\site-packages (from packaging->rpy2) (3.0.9)\n",
      "Installing collected packages: rpy2\n",
      "Successfully installed rpy2-3.5.4\n",
      "Collecting pyopls\n",
      "  Using cached pyopls-20.3.post1-py3-none-any.whl\n",
      "Requirement already satisfied: scipy>=0.18.0 in c:\\users\\yxliao\\anaconda3\\envs\\deeppic\\lib\\site-packages (from pyopls) (1.4.1)\n",
      "Requirement already satisfied: scikit-learn>=0.18.0 in c:\\users\\yxliao\\anaconda3\\envs\\deeppic\\lib\\site-packages (from pyopls) (0.24.1)\n",
      "Requirement already satisfied: numpy>=1.11.0 in c:\\users\\yxliao\\anaconda3\\envs\\deeppic\\lib\\site-packages (from pyopls) (1.20.1)\n",
      "Requirement already satisfied: threadpoolctl>=2.0.0 in c:\\users\\yxliao\\appdata\\roaming\\python\\python38\\site-packages (from scikit-learn>=0.18.0->pyopls) (3.1.0)\n",
      "Requirement already satisfied: joblib>=0.11 in c:\\users\\yxliao\\appdata\\roaming\\python\\python38\\site-packages (from scikit-learn>=0.18.0->pyopls) (1.1.0)\n",
      "Installing collected packages: pyopls\n",
      "Successfully installed pyopls-20.3.post1\n",
      "Requirement already satisfied: pandas in c:\\users\\yxliao\\anaconda3\\envs\\deeppic\\lib\\site-packages (1.2.4)\n",
      "Requirement already satisfied: numpy>=1.16.5 in c:\\users\\yxliao\\anaconda3\\envs\\deeppic\\lib\\site-packages (from pandas) (1.20.1)\n",
      "Requirement already satisfied: python-dateutil>=2.7.3 in c:\\users\\yxliao\\anaconda3\\envs\\deeppic\\lib\\site-packages (from pandas) (2.8.2)\n",
      "Requirement already satisfied: pytz>=2017.3 in c:\\users\\yxliao\\anaconda3\\envs\\deeppic\\lib\\site-packages (from pandas) (2022.1)\n",
      "Requirement already satisfied: six>=1.5 in c:\\users\\yxliao\\appdata\\roaming\\python\\python38\\site-packages (from python-dateutil>=2.7.3->pandas) (1.15.0)\n",
      "Requirement already satisfied: numpy in c:\\users\\yxliao\\anaconda3\\envs\\deeppic\\lib\\site-packages (1.20.1)\n",
      "Requirement already satisfied: scikit_learn in c:\\users\\yxliao\\anaconda3\\envs\\deeppic\\lib\\site-packages (0.24.1)\n",
      "Requirement already satisfied: scipy>=0.19.1 in c:\\users\\yxliao\\anaconda3\\envs\\deeppic\\lib\\site-packages (from scikit_learn) (1.4.1)\n",
      "Requirement already satisfied: joblib>=0.11 in c:\\users\\yxliao\\appdata\\roaming\\python\\python38\\site-packages (from scikit_learn) (1.1.0)\n",
      "Requirement already satisfied: numpy>=1.13.3 in c:\\users\\yxliao\\anaconda3\\envs\\deeppic\\lib\\site-packages (from scikit_learn) (1.20.1)\n",
      "Requirement already satisfied: threadpoolctl>=2.0.0 in c:\\users\\yxliao\\appdata\\roaming\\python\\python38\\site-packages (from scikit_learn) (3.1.0)\n",
      "Collecting wget\n",
      "  Using cached wget-3.2-py3-none-any.whl\n",
      "Installing collected packages: wget\n",
      "Successfully installed wget-3.2\n",
      "Collecting matplotlib\n",
      "  Using cached matplotlib-3.5.3-cp38-cp38-win_amd64.whl (7.2 MB)\n",
      "Requirement already satisfied: cycler>=0.10 in c:\\users\\yxliao\\appdata\\roaming\\python\\python38\\site-packages (from matplotlib) (0.11.0)\n",
      "Requirement already satisfied: numpy>=1.17 in c:\\users\\yxliao\\anaconda3\\envs\\deeppic\\lib\\site-packages (from matplotlib) (1.20.1)\n",
      "Requirement already satisfied: python-dateutil>=2.7 in c:\\users\\yxliao\\anaconda3\\envs\\deeppic\\lib\\site-packages (from matplotlib) (2.8.2)\n",
      "Requirement already satisfied: pyparsing>=2.2.1 in c:\\users\\yxliao\\anaconda3\\envs\\deeppic\\lib\\site-packages (from matplotlib) (3.0.9)\n",
      "Requirement already satisfied: packaging>=20.0 in c:\\users\\yxliao\\anaconda3\\envs\\deeppic\\lib\\site-packages (from matplotlib) (21.3)\n",
      "Requirement already satisfied: pillow>=6.2.0 in c:\\users\\yxliao\\appdata\\roaming\\python\\python38\\site-packages (from matplotlib) (9.1.0)\n",
      "Requirement already satisfied: kiwisolver>=1.0.1 in c:\\users\\yxliao\\appdata\\roaming\\python\\python38\\site-packages (from matplotlib) (1.4.2)\n",
      "Requirement already satisfied: fonttools>=4.22.0 in c:\\users\\yxliao\\anaconda3\\envs\\deeppic\\lib\\site-packages (from matplotlib) (4.37.1)\n",
      "Requirement already satisfied: six>=1.5 in c:\\users\\yxliao\\appdata\\roaming\\python\\python38\\site-packages (from python-dateutil>=2.7->matplotlib) (1.15.0)\n",
      "Installing collected packages: matplotlib\n",
      "Successfully installed matplotlib-3.5.3\n"
     ]
    }
   ],
   "source": [
    "!pip install rpy2\n",
    "!pip install pyopls\n",
    "!pip install pandas\n",
    "!pip install numpy\n",
    "!pip install scikit_learn\n",
    "!pip install wget\n",
    "!pip install matplotlib"
   ]
  },
  {
   "cell_type": "markdown",
   "id": "3ef2804b",
   "metadata": {},
   "source": [
    "## Load the required packages"
   ]
  },
  {
   "cell_type": "code",
   "execution_count": 2,
   "id": "6ad37181",
   "metadata": {},
   "outputs": [],
   "source": [
    "import rpy2.robjects as robjects\n",
    "from rpy2.robjects import numpy2ri\n",
    "from pyopls import OPLS\n",
    "import pandas as pd\n",
    "import numpy as np\n",
    "from sklearn.cross_decomposition import PLSRegression\n",
    "from sklearn.model_selection import cross_val_predict, LeaveOneOut, KFold \n",
    "from sklearn.metrics import r2_score\n",
    "from KPIC2.permutation_vip import *\n",
    "import warnings\n",
    "import wget\n",
    "from zipfile import ZipFile\n",
    "import matplotlib.pyplot as plt\n",
    "plt.rc('font',family='Calibri')"
   ]
  },
  {
   "cell_type": "markdown",
   "id": "f2337db2",
   "metadata": {},
   "source": [
    "## Download the metabolomics dataset"
   ]
  },
  {
   "cell_type": "code",
   "execution_count": 3,
   "id": "8729b71f",
   "metadata": {},
   "outputs": [
    {
     "name": "stdout",
     "output_type": "stream",
     "text": [
      "100% [......................................................................] 463974197 / 463974197"
     ]
    }
   ],
   "source": [
    "url = \"https://github.com/yuxuanliao/DeepPIC/releases/download/v1.0.0/Metabolomics.dataset.zip\"\n",
    "save_path = wget.download(url, \".\")\n",
    "with ZipFile(save_path, 'r') as zip:\n",
    "    zip.extractall(path = \".\")\n",
    "save_path_unzip = save_path[:-4]\n",
    "path_unzip = save_path_unzip[2:]\n",
    "path_unzip = path_unzip.replace('.', ' ')\n",
    "pics5_path1 = path_unzip + \"/1.mzXML\"\n",
    "pics4_path2 = path_unzip + \"/2.mzXML\"\n",
    "pics_1_fp = path_unzip + \"/\""
   ]
  },
  {
   "cell_type": "markdown",
   "id": "1881615f",
   "metadata": {},
   "source": [
    "## Load RTs read from each LC-MS file in the metabolomics dataset"
   ]
  },
  {
   "cell_type": "code",
   "execution_count": 4,
   "id": "bdad8502",
   "metadata": {},
   "outputs": [],
   "source": [
    "pics5_ps = 'KPIC2/files/scantime/scantime01/rt1.txt'\n",
    "pics4_ps = 'KPIC2/files/scantime/scantime02/rt2.txt'\n",
    "pics_1_fps = 'KPIC2/files/scantime'"
   ]
  },
  {
   "cell_type": "markdown",
   "id": "51392a48",
   "metadata": {},
   "source": [
    "## Load PICs extracted by DeepPIC from the metabolomics dataset. By running extract.py, you can use DeepPIC to extract PICs. Please refer to extract.ipynb for details."
   ]
  },
  {
   "cell_type": "code",
   "execution_count": 5,
   "id": "5ae38367",
   "metadata": {},
   "outputs": [],
   "source": [
    "pics5_ffn = 'KPIC2/files/pics/pics01'\n",
    "pics5_dir = pics5_ffn + '/'\n",
    "pics4_ffn = 'KPIC2/files/pics/pics02'\n",
    "pics4_dir = pics4_ffn + '/'\n",
    "pics_1_ff = 'KPIC2/files/pics'"
   ]
  },
  {
   "cell_type": "markdown",
   "id": "f646e3b1",
   "metadata": {},
   "source": [
    "## Import the functions in KPIC2"
   ]
  },
  {
   "cell_type": "code",
   "execution_count": 6,
   "id": "93c7fcb1",
   "metadata": {},
   "outputs": [],
   "source": [
    "numpy2ri.activate()\n",
    "robjects.r('''source('KPIC2/KPIC2.R')''')\n",
    "kpic_DeepPIC = robjects.globalenv['kpic_DeepPIC']\n",
    "PICset_decpeaks = robjects.globalenv['PICset_decpeaks']\n",
    "PICset_split = robjects.globalenv['PICset_split']\n",
    "PICset_getPeaks = robjects.globalenv['PICset_getPeaks']\n",
    "PICset_group = robjects.globalenv['PICset_group']\n",
    "PICset_align1 = robjects.globalenv['PICset_align1']\n",
    "PICset_align2 = robjects.globalenv['PICset_align2']\n",
    "PICset_align3 = robjects.globalenv['PICset_align3']\n",
    "kpic_iso = robjects.globalenv['kpic_iso']\n",
    "kpic_mat = robjects.globalenv['kpic_mat']\n",
    "kpic_fill = robjects.globalenv['kpic_fill']\n",
    "kpic_pattern = robjects.globalenv['kpic_pattern']"
   ]
  },
  {
   "cell_type": "code",
   "execution_count": 7,
   "id": "7f7c5545",
   "metadata": {},
   "outputs": [
    {
     "name": "stdout",
     "output_type": "stream",
     "text": [
      "filling peaks of Metabolomics dataset/1.mzXML \n",
      "filling peaks of Metabolomics dataset/2.mzXML \n",
      "filling peaks of Metabolomics dataset/3.mzXML \n",
      "filling peaks of Metabolomics dataset/4.mzXML \n",
      "filling peaks of Metabolomics dataset/5.mzXML \n",
      "filling peaks of Metabolomics dataset/6.mzXML \n",
      "filling peaks of Metabolomics dataset/7.mzXML \n",
      "filling peaks of Metabolomics dataset/8.mzXML \n",
      "filling peaks of Metabolomics dataset/9.mzXML \n",
      "filling peaks of Metabolomics dataset/10.mzXML \n",
      "filling peaks of Metabolomics dataset/11.mzXML \n",
      "filling peaks of Metabolomics dataset/12.mzXML \n",
      "filling peaks of Metabolomics dataset/13.mzXML \n",
      "filling peaks of Metabolomics dataset/14.mzXML \n",
      "filling peaks of Metabolomics dataset/15.mzXML \n",
      "filling peaks of Metabolomics dataset/16.mzXML \n",
      "filling peaks of Metabolomics dataset/17.mzXML \n",
      "filling peaks of Metabolomics dataset/18.mzXML \n",
      "filling peaks of Metabolomics dataset/19.mzXML \n",
      "filling peaks of Metabolomics dataset/20.mzXML \n"
     ]
    }
   ],
   "source": [
    "pics_1 = kpic_DeepPIC(pics5_ffn, pics5_dir, pics5_path1, pics5_ps, pics4_ffn, pics4_dir, pics4_path2, pics4_ps, pics_1_ff, pics_1_fps, pics_1_fp)\n",
    "PICS = PICset_decpeaks(pics_1)\n",
    "PICS = PICset_split(PICS)\n",
    "PICS = PICset_getPeaks(PICS)\n",
    "groups_raw = PICset_group(PICS)\n",
    "groups_align1 = PICset_align1(groups_raw)\n",
    "groups_align2 = PICset_align2(groups_align1)\n",
    "groups_align3 = PICset_align3(groups_align2)\n",
    "groups_align = kpic_iso(groups_align3)\n",
    "data = kpic_mat(groups_align)\n",
    "data = kpic_fill(data)\n",
    "result = kpic_pattern(data, file_save_path = \"./KPIC2/files/KPIC2_result.csv\")"
   ]
  },
  {
   "cell_type": "markdown",
   "id": "b8b34256",
   "metadata": {},
   "source": [
    "## Convert the file format for the OPLS-DA scores plot, permutation test, and biomarkers selection"
   ]
  },
  {
   "cell_type": "code",
   "execution_count": 8,
   "id": "e21fd0fe",
   "metadata": {},
   "outputs": [],
   "source": [
    "data = Datatransform(file_csv_path = \"./KPIC2/files/KPIC2_result.csv\",plot_csv_format = \"./KPIC2/files/KPIC2_result_plot.csv\")"
   ]
  },
  {
   "cell_type": "markdown",
   "id": "9ab5119a",
   "metadata": {},
   "source": [
    "## OPLS-DA"
   ]
  },
  {
   "cell_type": "code",
   "execution_count": 9,
   "id": "3a5dc65b",
   "metadata": {},
   "outputs": [
    {
     "data": {
      "text/plain": [
       "<matplotlib.legend.Legend at 0x17761148df0>"
      ]
     },
     "execution_count": 9,
     "metadata": {},
     "output_type": "execute_result"
    },
    {
     "data": {
      "image/png": "[encoded data removed]",
      "text/plain": [
       "<Figure size 432x288 with 1 Axes>"
      ]
     },
     "metadata": {
      "needs_background": "light"
     },
     "output_type": "display_data"
    }
   ],
   "source": [
    "X = np.array(data.values[:,1:].T,dtype=float)\n",
    "Y= np.array([0,0,0,0,0,0,0,0,0,0,1,1,1,1,1,1,1,1,1,1])\n",
    "opls = OPLS(1)\n",
    "Z = opls.fit_transform(X, Y)\n",
    "pls = PLSRegression(1)\n",
    "uncorrected_r2 = r2_score(Y, pls.fit(X, Y).predict(X))\n",
    "corrected_r2 = r2_score(Y, pls.fit(Z, Y).predict(Z))\n",
    "uncorrected_q2 = r2_score(Y, cross_val_predict(pls, X, Y, cv=LeaveOneOut()))\n",
    "corrected_q2 = r2_score(Y, cross_val_predict(pls, Z, Y, cv=LeaveOneOut()))\n",
    "pls.fit_transform(Z, Y)\n",
    "fig = plt.figure()\n",
    "ax = fig.add_subplot(111)\n",
    "bwith = 2\n",
    "TK = plt.gca()\n",
    "TK.spines['bottom'].set_linewidth(bwith)\n",
    "TK.spines['left'].set_linewidth(bwith)\n",
    "TK.spines['top'].set_linewidth(bwith)\n",
    "TK.spines['right'].set_linewidth(bwith)\n",
    "font = {'family' : 'Calibri',\n",
    "'weight' : 'normal',\n",
    "'size'   : 40,\n",
    "    }\n",
    "df = pd.DataFrame(np.column_stack([pls.x_scores_, opls.T_ortho_[:, 0]]),index=Y,columns=['t', 't_ortho'])                           \n",
    "pos_df = df[Y==0]\n",
    "neg_df = df[Y==1]\n",
    "plt.scatter(neg_df['t'], neg_df['t_ortho'], s=90, c='g', marker='o', label='seed')\n",
    "plt.scatter(pos_df['t'], pos_df['t_ortho'], s=90, c='red',marker='^', label='leaf')\n",
    "ax.set_title('Scores (OPLS-DA)',fontproperties = 'Calibri', size = 45)\n",
    "ax.set_xlabel('t',font)\n",
    "ax.set_ylabel(\"t_ortho\",font)    \n",
    "plt.yticks(fontproperties = 'Calibri', size = 30)\n",
    "plt.xticks(fontproperties = 'Calibri', size = 30)\n",
    "plt.legend(loc = 'upper left', prop={'family' : 'Calibri', 'size' : 25})"
   ]
  },
  {
   "cell_type": "markdown",
   "id": "90f0939c",
   "metadata": {},
   "source": [
    "## Permutation test "
   ]
  },
  {
   "cell_type": "code",
   "execution_count": 10,
   "id": "621b758b",
   "metadata": {},
   "outputs": [
    {
     "data": {
      "text/plain": [
       "(array([-2. , -1.5, -1. , -0.5,  0. ,  0.5,  1. ,  1.5]),\n",
       " [Text(0, 0, ''),\n",
       "  Text(0, 0, ''),\n",
       "  Text(0, 0, ''),\n",
       "  Text(0, 0, ''),\n",
       "  Text(0, 0, ''),\n",
       "  Text(0, 0, ''),\n",
       "  Text(0, 0, ''),\n",
       "  Text(0, 0, '')])"
      ]
     },
     "execution_count": 10,
     "metadata": {},
     "output_type": "execute_result"
    },
    {
     "data": {
      "image/png": "[encoded data removed]",
      "text/plain": [
       "<Figure size 432x288 with 1 Axes>"
      ]
     },
     "metadata": {
      "needs_background": "light"
     },
     "output_type": "display_data"
    }
   ],
   "source": [
    "with warnings.catch_warnings():\n",
    "    warnings.filterwarnings(\"ignore\")\n",
    "    kf = KFold(n_splits = 5, shuffle=True, random_state=420) \n",
    "    permutation_scores = permutation_test_score(pls, Z, Y, groups= None , cv=kf,\n",
    "                                n_permutations=2000, n_jobs=1, random_state=420,\n",
    "                                verbose=0, fit_params=None)\n",
    "fig = plt.figure()\n",
    "ax2 = fig.add_subplot(111)\n",
    "bwith = 2 \n",
    "TK = plt.gca()\n",
    "TK.spines['bottom'].set_linewidth(bwith)\n",
    "TK.spines['left'].set_linewidth(bwith)\n",
    "TK.spines['top'].set_linewidth(bwith)\n",
    "TK.spines['right'].set_linewidth(bwith)\n",
    "font = {'family' : 'Calibri',\n",
    "'weight' : 'normal',\n",
    "'size'   : 40,\n",
    "    }\n",
    "ax2.hist(permutation_scores[0][1], bins=50, density=False, fc=\"lightpink\", ec=\"magenta\")\n",
    "ax2.axvline(permutation_scores[0][0], linewidth = 3, ls=\"--\", color=\"deepskyblue\")\n",
    "ax2.set_xlabel('$\\mathregular{Q^2}$',font)\n",
    "ax2.set_ylabel(\"Frequency\",font)    \n",
    "plt.yticks(fontproperties = 'Calibri', size = 30)\n",
    "plt.xticks(fontproperties = 'Calibri', size = 30)"
   ]
  },
  {
   "cell_type": "markdown",
   "id": "bd93de3b",
   "metadata": {},
   "source": [
    "## Biomarkers selection"
   ]
  },
  {
   "cell_type": "code",
   "execution_count": 11,
   "id": "5c1f6209",
   "metadata": {},
   "outputs": [
    {
     "data": {
      "text/plain": [
       "(array([1.186, 1.187, 1.188, 1.189, 1.19 , 1.191, 1.192]),\n",
       " [Text(0, 0, ''),\n",
       "  Text(0, 0, ''),\n",
       "  Text(0, 0, ''),\n",
       "  Text(0, 0, ''),\n",
       "  Text(0, 0, ''),\n",
       "  Text(0, 0, ''),\n",
       "  Text(0, 0, '')])"
      ]
     },
     "execution_count": 11,
     "metadata": {},
     "output_type": "execute_result"
    },
    {
     "data": {
      "image/png": "[encoded data removed]",
      "text/plain": [
       "<Figure size 432x288 with 1 Axes>"
      ]
     },
     "metadata": {
      "needs_background": "light"
     },
     "output_type": "display_data"
    }
   ],
   "source": [
    "X = np.array(data.values[:,1:].T,dtype=float)\n",
    "COMs = data.values[:,0]\n",
    "VIPs = vip(Z, Y, pls)   \n",
    "COM = []\n",
    "VIP = []\n",
    "for vv in range(11):\n",
    "    if VIPs[vv]>=1:\n",
    "        VIP.append(VIPs[vv])\n",
    "        COM.append(COMs[vv])\n",
    "sorted_vips = sorted(enumerate(VIP), key=lambda x: x[1])\n",
    "idx = [i[0] for i in sorted_vips]\n",
    "vips = [i[1] for i in sorted_vips]\n",
    "COMS=[]\n",
    "for jj in range(len(COM)):\n",
    "    COMS.append(COM[idx[jj]])\n",
    "fig = plt.figure()\n",
    "ax11 = fig.add_subplot(111)\n",
    "bwith = 2\n",
    "TK = plt.gca()\n",
    "TK.spines['bottom'].set_linewidth(bwith)\n",
    "TK.spines['left'].set_linewidth(bwith)\n",
    "TK.spines['top'].set_linewidth(bwith)\n",
    "TK.spines['right'].set_linewidth(bwith)\n",
    "font = {'family' : 'Calibri',\n",
    "'weight' : 'normal',\n",
    "'size'   : 40,\n",
    "    }\n",
    "plt.grid(axis=\"y\",linestyle='-.')\n",
    "plt.scatter(vips,range(len(COMS)),c=\"#88c999\",s=200,marker=\"o\")\n",
    "ax11.set_xlabel('VIP',font)\n",
    "plt.yticks(range(len(COMS)),COMS,fontproperties = 'Calibri', size = 20)\n",
    "plt.xticks(fontproperties = 'Calibri', size = 20)"
   ]
  }
 ],
 "metadata": {
  "kernelspec": {
   "display_name": "Python [conda env:DeepPIC] *",
   "language": "python",
   "name": "conda-env-DeepPIC-py"
  },
  "language_info": {
   "codemirror_mode": {
    "name": "ipython",
    "version": 3
   },
   "file_extension": ".py",
   "mimetype": "text/x-python",
   "name": "python",
   "nbconvert_exporter": "python",
   "pygments_lexer": "ipython3",
   "version": "3.8.13"
  }
 },
 "nbformat": 4,
 "nbformat_minor": 5
}
